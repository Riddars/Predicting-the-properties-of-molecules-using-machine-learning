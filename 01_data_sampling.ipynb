{
 "cells": [
  {
   "cell_type": "markdown",
   "id": "cac051c3-5d74-4e17-829b-5a77884386be",
   "metadata": {},
   "source": [
    "План работы:",
    "1. Загрузить набор данных qm9.csv\n",
    "3. Сделать выборку 20 тыс. строк из набора данных qm9\n"
   ]
  },
  {
   "cell_type": "code",
   "execution_count": null,
   "id": "525bdcc3-37c8-45ad-a903-b36925010c57",
   "metadata": {},
   "outputs": [],
   "source": [
    "import pandas as pd\n",
    "\n",
    "df = pd.read_csv('qm9.csv')\n",
    "\n",
    "personal_random_state = 14\n",
    "\n",
    "sampled_data = df.sample(n=20000, random_state=personal_random_state)\n",
    "\n",
    "print(sampled_data)"
   ]
  }
 ],
 "metadata": {
  "kernelspec": {
   "display_name": "Python 3 (ipykernel)",
   "language": "python",
   "name": "python3"
  },
  "language_info": {
   "codemirror_mode": {
    "name": "ipython",
    "version": 3
   },
   "file_extension": ".py",
   "mimetype": "text/x-python",
   "name": "python",
   "nbconvert_exporter": "python",
   "pygments_lexer": "ipython3",
   "version": "3.10.12"
  }
 },
 "nbformat": 4,
 "nbformat_minor": 5
}
