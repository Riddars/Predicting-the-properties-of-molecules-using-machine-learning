{
 "cells": [
  {
   "cell_type": "markdown",
   "id": "82c1d1bf-c1ec-4767-a292-b4ac9004b254",
   "metadata": {},
   "source": [
    "Выберите 3-4 регрессионные модели (например, LightGBM, XGBoost) и обучите их предсказывать целевую переменную \"gap\" на параметрах по умолчанию (используйте 10-кратную кросс-валидацию).\n",
    "Примечание: для каждой модели есть пример использования на scikit-learn.org.\n",
    "\n",
    "2. Визуализируйте результаты с помощью графика R2 (предсказанное против реального), сравните производительность моделей и скорость обучения.\n",
    "\n",
    "3. Оптимизируйте модель с наилучшими показателями, используя настройку гиперпараметров (поиск по сетке)\n"
   ]
  },
  {
   "cell_type": "code",
   "execution_count": 2,
   "id": "d877e71b-5911-4a9c-b094-f8ba8e967496",
   "metadata": {},
   "outputs": [
    {
     "name": "stdout",
     "output_type": "stream",
     "text": [
      "Defaulting to user installation because normal site-packages is not writeable\n",
      "Collecting lightgbm\n",
      "  Downloading lightgbm-4.3.0-py3-none-manylinux_2_28_x86_64.whl (3.1 MB)\n",
      "\u001b[2K     \u001b[90m━━━━━━━━━━━━━━━━━━━━━━━━━━━━━━━━━━━━━━━━\u001b[0m \u001b[32m3.1/3.1 MB\u001b[0m \u001b[31m5.1 MB/s\u001b[0m eta \u001b[36m0:00:00\u001b[0m00:01\u001b[0m00:01\u001b[0m\n",
      "\u001b[?25hRequirement already satisfied: scipy in /home/student/.local/lib/python3.10/site-packages (from lightgbm) (1.12.0)\n",
      "Requirement already satisfied: numpy in /usr/local/lib/python3.10/dist-packages (from lightgbm) (1.23.4)\n",
      "Installing collected packages: lightgbm\n",
      "Successfully installed lightgbm-4.3.0\n"
     ]
    }
   ],
   "source": [
    "!pip install lightgbm"
   ]
  },
  {
   "cell_type": "code",
   "execution_count": 5,
   "id": "3e5c2dd2-1c03-4f85-a474-4304466d4d3f",
   "metadata": {},
   "outputs": [
    {
     "name": "stdout",
     "output_type": "stream",
     "text": [
      "Defaulting to user installation because normal site-packages is not writeable\n",
      "Collecting xgboost\n",
      "  Downloading xgboost-2.0.3-py3-none-manylinux2014_x86_64.whl (297.1 MB)\n",
      "\u001b[2K     \u001b[90m━━━━━━━━━━━━━━━━━━━━━━━━━━━━━━━━━━━━━━━\u001b[0m \u001b[32m297.1/297.1 MB\u001b[0m \u001b[31m2.4 MB/s\u001b[0m eta \u001b[36m0:00:00\u001b[0m00:01\u001b[0m00:04\u001b[0m\n",
      "\u001b[?25hRequirement already satisfied: numpy in /usr/local/lib/python3.10/dist-packages (from xgboost) (1.23.4)\n",
      "Requirement already satisfied: scipy in /home/student/.local/lib/python3.10/site-packages (from xgboost) (1.12.0)\n",
      "Installing collected packages: xgboost\n",
      "Successfully installed xgboost-2.0.3\n"
     ]
    }
   ],
   "source": [
    "!pip install xgboost"
   ]
  },
  {
   "cell_type": "code",
   "execution_count": 6,
   "id": "5ac82bbc-af87-44f0-889b-5b8605b57b33",
   "metadata": {},
   "outputs": [],
   "source": [
    "import pandas as pd\n",
    "import numpy as np\n",
    "import matplotlib.pyplot as plt\n",
    "import seaborn as sns\n",
    "from sklearn.model_selection import cross_val_score, train_test_split\n",
    "from sklearn.ensemble import GradientBoostingRegressor\n",
    "import lightgbm as lgb\n",
    "import xgboost as xgb\n",
    "\n",
    "import time\n",
    "from sklearn.metrics import r2_score"
   ]
  },
  {
   "cell_type": "code",
   "execution_count": 8,
   "id": "5dfaae86-12e2-478a-b8f0-7947715268bf",
   "metadata": {},
   "outputs": [],
   "source": [
    "data = pd.read_csv('dataset_PCA__v2.4.csv')"
   ]
  },
  {
   "cell_type": "code",
   "execution_count": 9,
   "id": "c66469ad-f754-4d3e-85dc-4ed4f1cccc72",
   "metadata": {},
   "outputs": [],
   "source": [
    "# Разделим данные на признаки и целевую переменную\n",
    "X = data.drop(['gap', 'smiles'], axis=1)  \n",
    "y = data['gap']"
   ]
  },
  {
   "cell_type": "markdown",
   "id": "58beadd7-1ac8-4a99-8276-84541ef5175a",
   "metadata": {},
   "source": [
    "# LightGBM\n",
    "Тут всё довольно типично, просто юзаем модельки и смотрим метрики"
   ]
  },
  {
   "cell_type": "code",
   "execution_count": 10,
   "id": "0ba58a75-d57b-4f5e-9cf6-63226c58bb3e",
   "metadata": {},
   "outputs": [],
   "source": [
    "# Разделение данных на тренировочную и тестовую выборки с помощью кросс-валидации\n",
    "X_train, X_test, y_train, y_test = train_test_split(X, y, test_size=0.2, random_state=42)\n"
   ]
  },
  {
   "cell_type": "code",
   "execution_count": 11,
   "id": "51b54ef8-ca54-4b0a-93d5-26006f265533",
   "metadata": {},
   "outputs": [
    {
     "name": "stdout",
     "output_type": "stream",
     "text": [
      "[LightGBM] [Info] Auto-choosing col-wise multi-threading, the overhead of testing was 0.002418 seconds.\n",
      "You can set `force_col_wise=true` to remove the overhead.\n",
      "[LightGBM] [Info] Total Bins 15555\n",
      "[LightGBM] [Info] Number of data points in the train set: 13192, number of used features: 61\n",
      "[LightGBM] [Info] Start training from score 0.507145\n"
     ]
    }
   ],
   "source": [
    "# Определим модель LightGBM\n",
    "model = lgb.LGBMRegressor()\n",
    "\n",
    "# Обучение модели\n",
    "start_time = time.time()\n",
    "\n",
    "model.fit(X_train, y_train)\n",
    "\n",
    "training_time = time.time() - start_time"
   ]
  },
  {
   "cell_type": "code",
   "execution_count": 12,
   "id": "a47ec561-05df-4af4-8059-972b5cae6cd7",
   "metadata": {},
   "outputs": [
    {
     "name": "stdout",
     "output_type": "stream",
     "text": [
      "[LightGBM] [Info] Auto-choosing col-wise multi-threading, the overhead of testing was 0.002521 seconds.\n",
      "You can set `force_col_wise=true` to remove the overhead.\n",
      "[LightGBM] [Info] Total Bins 15555\n",
      "[LightGBM] [Info] Number of data points in the train set: 14841, number of used features: 61\n",
      "[LightGBM] [Info] Start training from score 0.506739\n",
      "[LightGBM] [Info] Auto-choosing col-wise multi-threading, the overhead of testing was 0.002494 seconds.\n",
      "You can set `force_col_wise=true` to remove the overhead.\n",
      "[LightGBM] [Info] Total Bins 15555\n",
      "[LightGBM] [Info] Number of data points in the train set: 14841, number of used features: 61\n",
      "[LightGBM] [Info] Start training from score 0.507739\n",
      "[LightGBM] [Info] Auto-choosing col-wise multi-threading, the overhead of testing was 0.002530 seconds.\n",
      "You can set `force_col_wise=true` to remove the overhead.\n",
      "[LightGBM] [Info] Total Bins 15555\n",
      "[LightGBM] [Info] Number of data points in the train set: 14841, number of used features: 61\n",
      "[LightGBM] [Info] Start training from score 0.507261\n",
      "[LightGBM] [Info] Auto-choosing col-wise multi-threading, the overhead of testing was 0.002472 seconds.\n",
      "You can set `force_col_wise=true` to remove the overhead.\n",
      "[LightGBM] [Info] Total Bins 15555\n",
      "[LightGBM] [Info] Number of data points in the train set: 14841, number of used features: 61\n",
      "[LightGBM] [Info] Start training from score 0.507437\n",
      "[LightGBM] [Info] Auto-choosing col-wise multi-threading, the overhead of testing was 0.002548 seconds.\n",
      "You can set `force_col_wise=true` to remove the overhead.\n",
      "[LightGBM] [Info] Total Bins 15555\n",
      "[LightGBM] [Info] Number of data points in the train set: 14841, number of used features: 61\n",
      "[LightGBM] [Info] Start training from score 0.506869\n",
      "[LightGBM] [Info] Auto-choosing col-wise multi-threading, the overhead of testing was 0.002484 seconds.\n",
      "You can set `force_col_wise=true` to remove the overhead.\n",
      "[LightGBM] [Info] Total Bins 15555\n",
      "[LightGBM] [Info] Number of data points in the train set: 14841, number of used features: 61\n",
      "[LightGBM] [Info] Start training from score 0.507520\n",
      "[LightGBM] [Info] Auto-choosing col-wise multi-threading, the overhead of testing was 0.002673 seconds.\n",
      "You can set `force_col_wise=true` to remove the overhead.\n",
      "[LightGBM] [Info] Total Bins 15555\n",
      "[LightGBM] [Info] Number of data points in the train set: 14841, number of used features: 61\n",
      "[LightGBM] [Info] Start training from score 0.507249\n",
      "[LightGBM] [Info] Auto-choosing col-wise multi-threading, the overhead of testing was 0.002628 seconds.\n",
      "You can set `force_col_wise=true` to remove the overhead.\n",
      "[LightGBM] [Info] Total Bins 15555\n",
      "[LightGBM] [Info] Number of data points in the train set: 14841, number of used features: 61\n",
      "[LightGBM] [Info] Start training from score 0.507753\n",
      "[LightGBM] [Info] Auto-choosing col-wise multi-threading, the overhead of testing was 0.002500 seconds.\n",
      "You can set `force_col_wise=true` to remove the overhead.\n",
      "[LightGBM] [Info] Total Bins 15555\n",
      "[LightGBM] [Info] Number of data points in the train set: 14841, number of used features: 61\n",
      "[LightGBM] [Info] Start training from score 0.507152\n",
      "[LightGBM] [Info] Auto-choosing col-wise multi-threading, the overhead of testing was 0.002809 seconds.\n",
      "You can set `force_col_wise=true` to remove the overhead.\n",
      "[LightGBM] [Info] Total Bins 15555\n",
      "[LightGBM] [Info] Number of data points in the train set: 14841, number of used features: 61\n",
      "[LightGBM] [Info] Start training from score 0.506591\n"
     ]
    },
    {
     "data": {
      "image/png": "[encoded data removed]",
      "text/plain": [
       "<Figure size 640x480 with 1 Axes>"
      ]
     },
     "metadata": {},
     "output_type": "display_data"
    },
    {
     "name": "stdout",
     "output_type": "stream",
     "text": [
      "Метрики на тестовой выборке:\n",
      "R2: 0.8647257653669845\n",
      "\n",
      "Метрики при кросс-валидации:\n",
      "Среднее R2: 0.8660786670066732\n",
      "\n",
      "Время, затраченное на обучение модели: 0.49312567710876465 секунд\n"
     ]
    }
   ],
   "source": [
    "# Предсказание на тестовой выборке\n",
    "y_pred = model.predict(X_test)\n",
    "\n",
    "# Вычисление метрик точности\n",
    "r2 = r2_score(y_test, y_pred)\n",
    "\n",
    "# Кросс-валидация для оценки точности модели\n",
    "\n",
    "cv_r2_scores = cross_val_score(model, X, y, cv=10, scoring='r2')\n",
    "\n",
    "# Визуализация результата и метрики точности\n",
    "plt.scatter(y_test, y_pred)\n",
    "plt.xlabel(\"Настоящие значения\")\n",
    "plt.ylabel(\"Предсказанные значения\")\n",
    "plt.title(\"Результаты регрессии\")\n",
    "plt.show()\n",
    "\n",
    "# Вывод результатов\n",
    "print(\"Метрики на тестовой выборке:\")\n",
    "\n",
    "print(f\"R2: {r2}\")\n",
    "\n",
    "print(\"\\nМетрики при кросс-валидации:\")\n",
    "print(f\"Среднее R2: {np.mean(cv_r2_scores)}\")\n",
    "\n",
    "# Вывод времени обучения\n",
    "print(f\"\\nВремя, затраченное на обучение модели: {training_time} секунд\")"
   ]
  },
  {
   "cell_type": "markdown",
   "id": "0b1c5a61-a93c-431e-aecb-2f24e0f6377c",
   "metadata": {},
   "source": [
    "# XGBoost"
   ]
  },
  {
   "cell_type": "code",
   "execution_count": 13,
   "id": "51be259e-baa9-4694-9e1b-94f2c54de128",
   "metadata": {},
   "outputs": [],
   "source": [
    "# Определим модель XGBoost\n",
    "model = xgb.XGBRegressor()\n",
    "\n",
    "# Обучение модели\n",
    "start_time = time.time()\n",
    "\n",
    "model.fit(X_train, y_train)\n",
    "\n",
    "training_time = time.time() - start_time"
   ]
  },
  {
   "cell_type": "code",
   "execution_count": 14,
   "id": "f2c10652-dd0e-493b-8e00-9746a9aad381",
   "metadata": {},
   "outputs": [
    {
     "data": {
      "image/png": "[encoded data removed]",
      "text/plain": [
       "<Figure size 640x480 with 1 Axes>"
      ]
     },
     "metadata": {},
     "output_type": "display_data"
    },
    {
     "name": "stdout",
     "output_type": "stream",
     "text": [
      "Метрики на тестовой выборке:\n",
      "R2: 0.8572415068010717\n",
      "\n",
      "Метрики при кросс-валидации:\n",
      "Среднее R2: 0.861180291500728\n",
      "\n",
      "Время, затраченное на обучение модели: 0.8605811595916748 секунд\n"
     ]
    }
   ],
   "source": [
    "# Предсказание на тестовой выборке\n",
    "y_pred = model.predict(X_test)\n",
    "\n",
    "# Вычисление метрик точности\n",
    "r2 = r2_score(y_test, y_pred)\n",
    "\n",
    "# Кросс-валидация для оценки точности модели\n",
    "\n",
    "cv_r2_scores = cross_val_score(model, X, y, cv=10, scoring='r2')\n",
    "\n",
    "# Визуализация результата и метрики точности\n",
    "plt.scatter(y_test, y_pred)\n",
    "plt.xlabel(\"Настоящие значения\")\n",
    "plt.ylabel(\"Предсказанные значения\")\n",
    "plt.title(\"Результаты регрессии\")\n",
    "plt.show()\n",
    "\n",
    "# Вывод результатов\n",
    "print(\"Метрики на тестовой выборке:\")\n",
    "\n",
    "print(f\"R2: {r2}\")\n",
    "\n",
    "print(\"\\nМетрики при кросс-валидации:\")\n",
    "\n",
    "print(f\"Среднее R2: {np.mean(cv_r2_scores)}\")\n",
    "\n",
    "# Вывод времени обучения\n",
    "print(f\"\\nВремя, затраченное на обучение модели: {training_time} секунд\")"
   ]
  },
  {
   "cell_type": "markdown",
   "id": "09340033-a0ef-43b6-befd-05bb48121458",
   "metadata": {},
   "source": [
    "# Gradient Boosting"
   ]
  },
  {
   "cell_type": "code",
   "execution_count": 19,
   "id": "3b0ae98f-d74a-4427-8975-a353b49655a4",
   "metadata": {},
   "outputs": [],
   "source": [
    "# Определим модель\n",
    "model = GradientBoostingRegressor()\n",
    "\n",
    "# Обучение модели\n",
    "start_time = time.time()\n",
    "\n",
    "model.fit(X_train, y_train)\n",
    "\n",
    "training_time = time.time() - start_time"
   ]
  },
  {
   "cell_type": "code",
   "execution_count": null,
   "id": "4d5a9499-5dd4-4724-8e52-8c9c2e98f660",
   "metadata": {},
   "outputs": [
    {
     "name": "stdout",
     "output_type": "stream",
     "text": [
      "[LightGBM] [Info] Auto-choosing col-wise multi-threading, the overhead of testing was 0.038300 seconds.\n",
      "You can set `force_col_wise=true` to remove the overhead.\n",
      "[LightGBM] [Info] Total Bins 15555\n",
      "[LightGBM] [Info] Number of data points in the train set: 10553, number of used features: 61\n",
      "[LightGBM] [Info] Start training from score 0.506908\n",
      "[LightGBM] [Info] Auto-choosing col-wise multi-threading, the overhead of testing was 0.041825 seconds.\n",
      "You can set `force_col_wise=true` to remove the overhead.\n",
      "[LightGBM] [Info] Total Bins 15555\n",
      "[LightGBM] [Info] Number of data points in the train set: 10553, number of used features: 61\n",
      "[LightGBM] [Info] Start training from score 0.506611\n",
      "[LightGBM] [Info] Auto-choosing col-wise multi-threading, the overhead of testing was 0.040399 seconds.\n",
      "You can set `force_col_wise=true` to remove the overhead.\n",
      "[LightGBM] [Info] Total Bins 15555\n",
      "[LightGBM] [Info] Number of data points in the train set: 10554, number of used features: 61\n",
      "[LightGBM] [Info] Start training from score 0.507096\n",
      "[LightGBM] [Info] Auto-choosing col-wise multi-threading, the overhead of testing was 0.042703 seconds.\n",
      "You can set `force_col_wise=true` to remove the overhead.\n",
      "[LightGBM] [Info] Total Bins 15555\n",
      "[LightGBM] [Info] Number of data points in the train set: 10554, number of used features: 61\n",
      "[LightGBM] [Info] Start training from score 0.507869\n",
      "[LightGBM] [Info] Auto-choosing col-wise multi-threading, the overhead of testing was 0.041326 seconds.\n",
      "You can set `force_col_wise=true` to remove the overhead.\n",
      "[LightGBM] [Info] Total Bins 15555\n",
      "[LightGBM] [Info] Number of data points in the train set: 10554, number of used features: 61\n",
      "[LightGBM] [Info] Start training from score 0.507239\n",
      "[LightGBM] [Info] Auto-choosing col-wise multi-threading, the overhead of testing was 0.036299 seconds.\n",
      "You can set `force_col_wise=true` to remove the overhead.\n",
      "[LightGBM] [Info] Total Bins 15555\n",
      "[LightGBM] [Info] Number of data points in the train set: 10553, number of used features: 61\n",
      "[LightGBM] [Info] Start training from score 0.506908\n",
      "[LightGBM] [Info] Auto-choosing col-wise multi-threading, the overhead of testing was 0.040875 seconds.\n",
      "You can set `force_col_wise=true` to remove the overhead.\n",
      "[LightGBM] [Info] Total Bins 15555\n",
      "[LightGBM] [Info] Number of data points in the train set: 10554, number of used features: 61\n",
      "[LightGBM] [Info] Start training from score 0.507096\n",
      "[LightGBM] [Info] Auto-choosing col-wise multi-threading, the overhead of testing was 0.038797 seconds.\n",
      "You can set `force_col_wise=true` to remove the overhead.\n",
      "[LightGBM] [Info] Total Bins 15555\n",
      "[LightGBM] [Info] Number of data points in the train set: 10554, number of used features: 61\n",
      "[LightGBM] [Info] Start training from score 0.507869\n",
      "[LightGBM] [Info] Auto-choosing col-wise multi-threading, the overhead of testing was 0.041333 seconds.\n",
      "You can set `force_col_wise=true` to remove the overhead.\n",
      "[LightGBM] [Info] Total Bins 15555\n",
      "[LightGBM] [Info] Number of data points in the train set: 10554, number of used features: 61\n",
      "[LightGBM] [Info] Start training from score 0.507239\n",
      "[LightGBM] [Info] Auto-choosing col-wise multi-threading, the overhead of testing was 0.043073 seconds.\n",
      "You can set `force_col_wise=true` to remove the overhead.\n",
      "[LightGBM] [Info] Total Bins 15555\n",
      "[LightGBM] [Info] Number of data points in the train set: 10553, number of used features: 61\n",
      "[LightGBM] [Info] Start training from score 0.506908\n",
      "[LightGBM] [Info] Auto-choosing col-wise multi-threading, the overhead of testing was 0.034998 seconds.\n",
      "You can set `force_col_wise=true` to remove the overhead.\n",
      "[LightGBM] [Info] Total Bins 15555\n",
      "[LightGBM] [Info] Number of data points in the train set: 10553, number of used features: 61\n",
      "[LightGBM] [Info] Start training from score 0.506611\n",
      "[LightGBM] [Info] Auto-choosing col-wise multi-threading, the overhead of testing was 0.042869 seconds.\n",
      "You can set `force_col_wise=true` to remove the overhead.\n",
      "[LightGBM] [Info] Total Bins 15555\n",
      "[LightGBM] [Info] Number of data points in the train set: 10554, number of used features: 61\n",
      "[LightGBM] [Info] Start training from score 0.507096\n",
      "[LightGBM] [Info] Auto-choosing col-wise multi-threading, the overhead of testing was 0.041607 seconds.\n",
      "You can set `force_col_wise=true` to remove the overhead.\n",
      "[LightGBM] [Info] Total Bins 15555\n",
      "[LightGBM] [Info] Number of data points in the train set: 10554, number of used features: 61\n",
      "[LightGBM] [Info] Start training from score 0.507869\n",
      "[LightGBM] [Info] Auto-choosing col-wise multi-threading, the overhead of testing was 0.042921 seconds.\n",
      "You can set `force_col_wise=true` to remove the overhead.\n",
      "[LightGBM] [Info] Total Bins 15555\n",
      "[LightGBM] [Info] Number of data points in the train set: 10554, number of used features: 61\n",
      "[LightGBM] [Info] Start training from score 0.507239\n",
      "[LightGBM] [Info] Auto-choosing col-wise multi-threading, the overhead of testing was 0.035502 seconds.\n",
      "You can set `force_col_wise=true` to remove the overhead.\n",
      "[LightGBM] [Info] Total Bins 15555\n",
      "[LightGBM] [Info] Number of data points in the train set: 10553, number of used features: 61\n",
      "[LightGBM] [Info] Start training from score 0.506908\n",
      "[LightGBM] [Info] Auto-choosing col-wise multi-threading, the overhead of testing was 0.038064 seconds.\n",
      "You can set `force_col_wise=true` to remove the overhead.\n",
      "[LightGBM] [Info] Total Bins 15555\n",
      "[LightGBM] [Info] Number of data points in the train set: 10553, number of used features: 61\n",
      "[LightGBM] [Info] Start training from score 0.506611\n",
      "[LightGBM] [Info] Auto-choosing col-wise multi-threading, the overhead of testing was 0.041367 seconds.\n",
      "You can set `force_col_wise=true` to remove the overhead.\n",
      "[LightGBM] [Info] Total Bins 15555\n",
      "[LightGBM] [Info] Number of data points in the train set: 10554, number of used features: 61\n",
      "[LightGBM] [Info] Start training from score 0.507239\n",
      "[LightGBM] [Info] Auto-choosing col-wise multi-threading, the overhead of testing was 0.035948 seconds.\n",
      "You can set `force_col_wise=true` to remove the overhead.\n",
      "[LightGBM] [Info] Total Bins 15555\n",
      "[LightGBM] [Info] Number of data points in the train set: 10553, number of used features: 61\n",
      "[LightGBM] [Info] Start training from score 0.506611\n",
      "[LightGBM] [Info] Auto-choosing col-wise multi-threading, the overhead of testing was 0.039739 seconds.\n",
      "You can set `force_col_wise=true` to remove the overhead.\n",
      "[LightGBM] [Info] Total Bins 15555\n",
      "[LightGBM] [Info] Number of data points in the train set: 10554, number of used features: 61\n",
      "[LightGBM] [Info] Start training from score 0.507096\n",
      "[LightGBM] [Info] Auto-choosing col-wise multi-threading, the overhead of testing was 0.038766 seconds.\n",
      "You can set `force_col_wise=true` to remove the overhead.\n",
      "[LightGBM] [Info] Total Bins 15555\n",
      "[LightGBM] [Info] Number of data points in the train set: 10554, number of used features: 61\n",
      "[LightGBM] [Info] Start training from score 0.507869\n",
      "[LightGBM] [Info] Auto-choosing col-wise multi-threading, the overhead of testing was 0.038687 seconds.\n",
      "You can set `force_col_wise=true` to remove the overhead.\n",
      "[LightGBM] [Info] Total Bins 15555\n",
      "[LightGBM] [Info] Number of data points in the train set: 10554, number of used features: 61\n",
      "[LightGBM] [Info] Start training from score 0.507239\n",
      "[LightGBM] [Info] Auto-choosing row-wise multi-threading, the overhead of testing was 0.028971 seconds.\n",
      "You can set `force_row_wise=true` to remove the overhead.\n",
      "And if memory is not enough, you can set `force_col_wise=true`.\n",
      "[LightGBM] [Info] Total Bins 15555\n",
      "[LightGBM] [Info] Number of data points in the train set: 10554, number of used features: 61\n",
      "[LightGBM] [Info] Start training from score 0.507869\n",
      "[LightGBM] [Info] Auto-choosing col-wise multi-threading, the overhead of testing was 0.038815 seconds.\n",
      "You can set `force_col_wise=true` to remove the overhead.\n",
      "[LightGBM] [Info] Total Bins 15555\n",
      "[LightGBM] [Info] Number of data points in the train set: 10553, number of used features: 61\n",
      "[LightGBM] [Info] Start training from score 0.506908\n",
      "[LightGBM] [Info] Auto-choosing col-wise multi-threading, the overhead of testing was 0.037216 seconds.\n",
      "You can set `force_col_wise=true` to remove the overhead.\n",
      "[LightGBM] [Info] Total Bins 15555\n",
      "[LightGBM] [Info] Number of data points in the train set: 10553, number of used features: 61\n",
      "[LightGBM] [Info] Start training from score 0.506611\n",
      "[LightGBM] [Info] Auto-choosing col-wise multi-threading, the overhead of testing was 0.039754 seconds.\n",
      "You can set `force_col_wise=true` to remove the overhead.\n",
      "[LightGBM] [Info] Total Bins 15555\n",
      "[LightGBM] [Info] Number of data points in the train set: 10554, number of used features: 61\n",
      "[LightGBM] [Info] Start training from score 0.507096\n",
      "[LightGBM] [Info] Auto-choosing col-wise multi-threading, the overhead of testing was 0.041480 seconds.\n",
      "You can set `force_col_wise=true` to remove the overhead.\n",
      "[LightGBM] [Info] Total Bins 15555\n",
      "[LightGBM] [Info] Number of data points in the train set: 10554, number of used features: 61\n",
      "[LightGBM] [Info] Start training from score 0.507869\n",
      "[LightGBM] [Info] Auto-choosing col-wise multi-threading, the overhead of testing was 0.038936 seconds.\n",
      "You can set `force_col_wise=true` to remove the overhead.\n",
      "[LightGBM] [Info] Total Bins 15555\n",
      "[LightGBM] [Info] Number of data points in the train set: 10554, number of used features: 61\n",
      "[LightGBM] [Info] Start training from score 0.507869\n",
      "[LightGBM] [Info] Auto-choosing col-wise multi-threading, the overhead of testing was 0.034969 seconds.\n",
      "You can set `force_col_wise=true` to remove the overhead.\n",
      "[LightGBM] [Info] Total Bins 15555\n",
      "[LightGBM] [Info] Number of data points in the train set: 10553, number of used features: 61\n",
      "[LightGBM] [Info] Start training from score 0.506908\n",
      "[LightGBM] [Info] Auto-choosing col-wise multi-threading, the overhead of testing was 0.038478 seconds.\n",
      "You can set `force_col_wise=true` to remove the overhead.\n",
      "[LightGBM] [Info] Total Bins 15555\n",
      "[LightGBM] [Info] Number of data points in the train set: 10553, number of used features: 61\n",
      "[LightGBM] [Info] Start training from score 0.506611\n",
      "[LightGBM] [Info] Auto-choosing col-wise multi-threading, the overhead of testing was 0.042915 seconds.\n",
      "You can set `force_col_wise=true` to remove the overhead.\n",
      "[LightGBM] [Info] Total Bins 15555\n",
      "[LightGBM] [Info] Number of data points in the train set: 10554, number of used features: 61\n",
      "[LightGBM] [Info] Start training from score 0.507096\n",
      "[LightGBM] [Info] Auto-choosing col-wise multi-threading, the overhead of testing was 0.040043 seconds.\n",
      "You can set `force_col_wise=true` to remove the overhead.\n",
      "[LightGBM] [Info] Total Bins 15555\n",
      "[LightGBM] [Info] Number of data points in the train set: 10554, number of used features: 61\n",
      "[LightGBM] [Info] Start training from score 0.507869\n",
      "[LightGBM] [Info] Auto-choosing row-wise multi-threading, the overhead of testing was 0.032482 seconds.\n",
      "You can set `force_row_wise=true` to remove the overhead.\n",
      "And if memory is not enough, you can set `force_col_wise=true`.\n",
      "[LightGBM] [Info] Total Bins 15555\n",
      "[LightGBM] [Info] Number of data points in the train set: 10554, number of used features: 61\n",
      "[LightGBM] [Info] Start training from score 0.507239\n",
      "[LightGBM] [Info] Auto-choosing col-wise multi-threading, the overhead of testing was 0.037178 seconds.\n",
      "You can set `force_col_wise=true` to remove the overhead.\n",
      "[LightGBM] [Info] Total Bins 15555\n",
      "[LightGBM] [Info] Number of data points in the train set: 10554, number of used features: 61\n",
      "[LightGBM] [Info] Start training from score 0.507239\n",
      "[LightGBM] [Info] Auto-choosing col-wise multi-threading, the overhead of testing was 0.040134 seconds.\n",
      "You can set `force_col_wise=true` to remove the overhead.\n",
      "[LightGBM] [Info] Total Bins 15555\n",
      "[LightGBM] [Info] Number of data points in the train set: 10553, number of used features: 61\n",
      "[LightGBM] [Info] Start training from score 0.506908\n",
      "[LightGBM] [Info] Auto-choosing col-wise multi-threading, the overhead of testing was 0.037981 seconds.\n",
      "You can set `force_col_wise=true` to remove the overhead.\n",
      "[LightGBM] [Info] Total Bins 15555\n",
      "[LightGBM] [Info] Number of data points in the train set: 10553, number of used features: 61\n",
      "[LightGBM] [Info] Start training from score 0.506611\n",
      "[LightGBM] [Info] Auto-choosing col-wise multi-threading, the overhead of testing was 0.045289 seconds.\n",
      "You can set `force_col_wise=true` to remove the overhead.\n",
      "[LightGBM] [Info] Total Bins 15555\n",
      "[LightGBM] [Info] Number of data points in the train set: 10554, number of used features: 61\n",
      "[LightGBM] [Info] Start training from score 0.507096\n",
      "[LightGBM] [Info] Auto-choosing col-wise multi-threading, the overhead of testing was 0.037272 seconds.\n",
      "You can set `force_col_wise=true` to remove the overhead.\n",
      "[LightGBM] [Info] Total Bins 15555\n",
      "[LightGBM] [Info] Number of data points in the train set: 10554, number of used features: 61\n",
      "[LightGBM] [Info] Start training from score 0.507239\n",
      "[LightGBM] [Info] Auto-choosing col-wise multi-threading, the overhead of testing was 0.042885 seconds.\n",
      "You can set `force_col_wise=true` to remove the overhead.\n",
      "[LightGBM] [Info] Total Bins 15555\n",
      "[LightGBM] [Info] Number of data points in the train set: 10553, number of used features: 61\n",
      "[LightGBM] [Info] Start training from score 0.506908\n",
      "[LightGBM] [Info] Auto-choosing col-wise multi-threading, the overhead of testing was 0.037858 seconds.\n",
      "You can set `force_col_wise=true` to remove the overhead.\n",
      "[LightGBM] [Info] Total Bins 15555\n",
      "[LightGBM] [Info] Number of data points in the train set: 10553, number of used features: 61\n",
      "[LightGBM] [Info] Start training from score 0.506611\n",
      "[LightGBM] [Info] Auto-choosing col-wise multi-threading, the overhead of testing was 0.036880 seconds.\n",
      "You can set `force_col_wise=true` to remove the overhead.\n",
      "[LightGBM] [Info] Total Bins 15555\n",
      "[LightGBM] [Info] Number of data points in the train set: 10554, number of used features: 61\n",
      "[LightGBM] [Info] Start training from score 0.507096\n"
     ]
    }
   ],
   "source": [
    "# Предсказание на тестовой выборке\n",
    "y_pred = model.predict(X_test)\n",
    "\n",
    "# Вычисление метрик точности\n",
    "\n",
    "r2 = r2_score(y_test, y_pred)\n",
    "\n",
    "# Кросс-валидация для оценки точности модели\n",
    "\n",
    "cv_r2_scores = cross_val_score(model, X, y, cv=10, scoring='r2')\n",
    "\n",
    "# Визуализация результата и метрики точности\n",
    "plt.scatter(y_test, y_pred)\n",
    "plt.xlabel(\"Настоящие значения\")\n",
    "plt.ylabel(\"Предсказанные значения\")\n",
    "plt.title(\"Результаты регрессии\")\n",
    "plt.show()\n",
    "\n",
    "# Вывод результатов\n",
    "print(\"Метрики на тестовой выборке:\")\n",
    "\n",
    "print(f\"R2: {r2}\")\n",
    "\n",
    "print(\"\\nМетрики при кросс-валидации:\")\n",
    "\n",
    "print(f\"Среднее R2: {np.mean(cv_r2_scores)}\")\n",
    "\n",
    "# Вывод времени обучения\n",
    "print(f\"\\nВремя, затраченное на обучение модели: {training_time} секунд\")"
   ]
  },
  {
   "cell_type": "markdown",
   "id": "e2274cf4-ef50-48d0-a08c-6270d924d5eb",
   "metadata": {},
   "source": [
    "# Выбор модели"
   ]
  },
  {
   "cell_type": "markdown",
   "id": "a3ffb9ae-7da6-40a7-b0fa-edd5c2e59eb4",
   "metadata": {},
   "source": [
    "Самой быстрой и точной моделью оказалась LightGBM, подпор гиперпараметров делаем для неё."
   ]
  },
  {
   "cell_type": "code",
   "execution_count": 17,
   "id": "684c7414-b44a-4804-af93-0c637b524618",
   "metadata": {},
   "outputs": [],
   "source": [
    "from sklearn.model_selection import GridSearchCV"
   ]
  },
  {
   "cell_type": "code",
   "execution_count": 18,
   "id": "993e24b8-d6cb-4121-b6d0-788cf05b907e",
   "metadata": {},
   "outputs": [
    {
     "name": "stdout",
     "output_type": "stream",
     "text": [
      "[LightGBM] [Info] Auto-choosing col-wise multi-threading, the overhead of testing was 0.002261 seconds.\n",
      "You can set `force_col_wise=true` to remove the overhead.\n",
      "[LightGBM] [Info] Total Bins 15555\n",
      "[LightGBM] [Info] Number of data points in the train set: 13192, number of used features: 61\n",
      "[LightGBM] [Info] Start training from score 0.507145\n",
      "Лучшие параметры: {'learning_rate': 0.1, 'n_estimators': 200, 'num_leaves': 50}\n",
      "\n",
      "Метрики на тестовой выборке с лучшей моделью:\n",
      "R2: 0.8864785849846685\n",
      "\n",
      "Время, затраченное на обучение модели с оптимизированными гиперпараметрами: 1919.864819765091 секунд\n"
     ]
    }
   ],
   "source": [
    "# Создаем объект модели LightGBM\n",
    "model = lgb.LGBMRegressor()\n",
    "\n",
    "# Задаем сетку гиперпараметров для перебора\n",
    "param_grid = {\n",
    "    'num_leaves': [30, 50],\n",
    "    'learning_rate': [0.1, 0.05],\n",
    "    'n_estimators': [100, 200],\n",
    "}\n",
    "# Создание объекта GridSearchCV\n",
    "grid_search = GridSearchCV(model, param_grid, cv=5, scoring='r2', n_jobs=-1)\n",
    "\n",
    "# Обучение модели с оптимизацией гиперпараметров\n",
    "start_time = time.time()\n",
    "grid_search.fit(X_train, y_train)\n",
    "training_time = time.time() - start_time\n",
    "\n",
    "# Получение лучших параметров\n",
    "best_params = grid_search.best_params_\n",
    "\n",
    "# Предсказание на тестовой выборке с лучшей моделью\n",
    "best_model = grid_search.best_estimator_\n",
    "y_pred = best_model.predict(X_test)\n",
    "\n",
    "\n",
    "r2 = r2_score(y_test, y_pred)\n",
    "\n",
    "# Вывод результатов\n",
    "print(\"Лучшие параметры:\", best_params)\n",
    "print(\"\\nМетрики на тестовой выборке с лучшей моделью:\")\n",
    "\n",
    "print(f\"R2: {r2}\")\n",
    "\n",
    "# Вывод времени обучения\n",
    "print(f\"\\nВремя, затраченное на обучение модели с оптимизированными гиперпараметрами: {training_time} секунд\")"
   ]
  },
  {
   "cell_type": "code",
   "execution_count": null,
   "id": "97aab0eb-a7cb-4607-b03c-2b535d87ea1e",
   "metadata": {},
   "outputs": [],
   "source": []
  }
 ],
 "metadata": {
  "kernelspec": {
   "display_name": "Python 3 (ipykernel)",
   "language": "python",
   "name": "python3"
  },
  "language_info": {
   "codemirror_mode": {
    "name": "ipython",
    "version": 3
   },
   "file_extension": ".py",
   "mimetype": "text/x-python",
   "name": "python",
   "nbconvert_exporter": "python",
   "pygments_lexer": "ipython3",
   "version": "3.10.12"
  }
 },
 "nbformat": 4,
 "nbformat_minor": 5
}
